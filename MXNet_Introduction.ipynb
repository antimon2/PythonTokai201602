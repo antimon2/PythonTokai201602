{
 "cells": [
  {
   "cell_type": "markdown",
   "metadata": {
    "slideshow": {
     "slide_type": "slide"
    }
   },
   "source": [
    "# MXNet の紹介<br><small>と、ライブデモ</small>"
   ]
  },
  {
   "cell_type": "markdown",
   "metadata": {},
   "source": [
    "<p style=\"text-align:center;font-size:150%;line-height:150%\">2016/02/06 Python東海 第29回勉強会<br>後藤 俊介 ( @antimon2 )</p>"
   ]
  },
  {
   "cell_type": "markdown",
   "metadata": {
    "slideshow": {
     "slide_type": "slide"
    }
   },
   "source": [
    "## 自己紹介"
   ]
  },
  {
   "cell_type": "markdown",
   "metadata": {},
   "source": [
    "+ 名前：後藤 俊介\n",
    "+ 所属：株式会社コスモルート クラウドR&Dグループ 数学班\n",
    "+ 言語：Ruby, JavaScript, Python, Julia, Haxe, …\n",
    "+ twitter: [@antimon2](https://twitter.com/antimon2 \"あんちもん2(@antimon2)さん | Twitter\")\n",
    "+ Facebook: [antimon2](https://www.facebook.com/antimon2 \"後藤 俊介\")\n",
    "+ GitHub: [antimon2](https://github.com/antimon2/ \"antimon2 (GOTOH Shunsuke)\")"
   ]
  },
  {
   "cell_type": "markdown",
   "metadata": {
    "collapsed": true,
    "slideshow": {
     "slide_type": "subslide"
    }
   },
   "source": [
    "### 宣伝：機械学習 名古屋 勉強会"
   ]
  },
  {
   "cell_type": "markdown",
   "metadata": {},
   "source": [
    "機械学習 名古屋 勉強会 主催（共催）してます！\n",
    "\n",
    "[<img src=\"./MLNGY_connpass.jpg\" width=\"512\" />](http://machine-learning.connpass.com/ \"機械学習　名古屋 - connpass\")"
   ]
  },
  {
   "cell_type": "markdown",
   "metadata": {
    "slideshow": {
     "slide_type": "slide"
    }
   },
   "source": [
    "## MXNet とは"
   ]
  },
  {
   "cell_type": "markdown",
   "metadata": {
    "slideshow": {
     "slide_type": "-"
    }
   },
   "source": [
    "+ サイト：http://mxnet.rtfd.org/\n",
    "+ 「効率」と「柔軟性」を両立した Deep Learning フレームワーク。\n",
    "+ **Python**, **Julia**, R, C++ に対応。"
   ]
  },
  {
   "cell_type": "markdown",
   "metadata": {
    "slideshow": {
     "slide_type": "slide"
    }
   },
   "source": [
    "## MXNet のインストールと環境構築（概要）"
   ]
  },
  {
   "cell_type": "markdown",
   "metadata": {},
   "source": [
    "（インストール詳細は [本家ドキュメント](http://mxnet.readthedocs.org/en/latest/build.html \"Installation Guide &mdash; mxnet 0.5.0 documentation\") を参照）"
   ]
  },
  {
   "cell_type": "markdown",
   "metadata": {},
   "source": [
    "環境：\n",
    "+ Mac OSX 10.10.x/10.11.x\n",
    "+ Julia 0.4.3\n",
    "+ Python 2.7.9/2.7.11 ＋ pyenv + pyenv-virtualenv"
   ]
  },
  {
   "cell_type": "markdown",
   "metadata": {
    "slideshow": {
     "slide_type": "notes"
    }
   },
   "source": [
    "※ 以下の手順は、@antimon2 が動作テストのために行った仮の手順です。"
   ]
  },
  {
   "cell_type": "markdown",
   "metadata": {
    "slideshow": {
     "slide_type": "subslide"
    }
   },
   "source": [
    "### Julia に MXNet.jl をインストール"
   ]
  },
  {
   "cell_type": "markdown",
   "metadata": {},
   "source": [
    "```bash\n",
    "$ julia\n",
    "\n",
    "julia> Pkg.update()\n",
    "\n",
    "julia> Pkg.add(\"MXNet\")\n",
    "\n",
    "```"
   ]
  },
  {
   "cell_type": "markdown",
   "metadata": {},
   "source": [
    "↑ ダイナミックリンクライブラリ libmxnet.so のビルドまでやってくれる。"
   ]
  },
  {
   "cell_type": "markdown",
   "metadata": {
    "slideshow": {
     "slide_type": "subslide"
    }
   },
   "source": [
    "### MXNet 用 Python 仮想環境作成"
   ]
  },
  {
   "cell_type": "markdown",
   "metadata": {},
   "source": [
    "```bash\n",
    "$ pyenv virtualenv 2.7.11 MXNet\n",
    "$ pyenv shell MXNet\n",
    "$ pyenv version\n",
    "MXNet (set by PYENV_VERSION environment variable)\n",
    "$ pip install -U pip\n",
    "$ pip install -U numpy matplotlib jupyter\n",
    "```"
   ]
  },
  {
   "cell_type": "markdown",
   "metadata": {
    "slideshow": {
     "slide_type": "subslide"
    }
   },
   "source": [
    "### Python パッケージインストール"
   ]
  },
  {
   "cell_type": "markdown",
   "metadata": {},
   "source": [
    "```bash\n",
    "$ cd ~/.julia/v0.4/MXNet/deps/src/mxnet/python\n",
    "$ pyenv shell MXNet\n",
    "$ pyenv version\n",
    "MXNet (set by PYENV_VERSION environment variable)\n",
    "$ python setup.py install\n",
    "```"
   ]
  },
  {
   "cell_type": "markdown",
   "metadata": {
    "slideshow": {
     "slide_type": "notes"
    }
   },
   "source": [
    "※ Julia パッケージインストール時に pull された git リポジトリをそのまま利用。"
   ]
  },
  {
   "cell_type": "markdown",
   "metadata": {
    "slideshow": {
     "slide_type": "subslide"
    }
   },
   "source": [
    "### Jupyter カーネル追加"
   ]
  },
  {
   "cell_type": "markdown",
   "metadata": {},
   "source": [
    "```bash\n",
    "$ pyenv shell MXNet\n",
    "$ pyenv version\n",
    "MXNet (set by PYENV_VERSION environment variable)\n",
    "$ python -m ipykernel install --user --name mxnet --display-name \"MXNet (Python 2)\"\n",
    "Installed kernelspec mxnet in [path/to/JUPYTER_DIR]/kernels/mxnet\n",
    "```"
   ]
  },
  {
   "cell_type": "markdown",
   "metadata": {
    "slideshow": {
     "slide_type": "subslide"
    }
   },
   "source": [
    "### 動作確認"
   ]
  },
  {
   "cell_type": "code",
   "execution_count": 2,
   "metadata": {
    "collapsed": false
   },
   "outputs": [
    {
     "name": "stdout",
     "output_type": "stream",
     "text": [
      "OpenCV is unavailable.\n"
     ]
    }
   ],
   "source": [
    "import mxnet as mx"
   ]
  },
  {
   "cell_type": "code",
   "execution_count": 3,
   "metadata": {
    "collapsed": false,
    "slideshow": {
     "slide_type": "subslide"
    }
   },
   "outputs": [
    {
     "data": {
      "text/plain": [
       "array([[-0.01725694, -0.0075838 , -0.03712081],\n",
       "       [-0.00217939,  0.07316095,  0.05397278]], dtype=float32)"
      ]
     },
     "execution_count": 3,
     "metadata": {},
     "output_type": "execute_result"
    }
   ],
   "source": [
    "import numpy as np\n",
    "\n",
    "a = mx.nd.empty((2, 3))\n",
    "a[:] = np.random.uniform(-0.1, 0.1, a.shape)\n",
    "a.asnumpy()"
   ]
  },
  {
   "cell_type": "markdown",
   "metadata": {
    "slideshow": {
     "slide_type": "slide"
    }
   },
   "source": [
    "## 3LP サンプル (MNIST)"
   ]
  },
  {
   "cell_type": "markdown",
   "metadata": {
    "slideshow": {
     "slide_type": "notes"
    }
   },
   "source": [
    "※ 3LP：3 Layer Perceptron の略。Deep Learning のキホン。"
   ]
  },
  {
   "cell_type": "markdown",
   "metadata": {
    "slideshow": {
     "slide_type": "subslide"
    }
   },
   "source": [
    "### MNIST データ読込"
   ]
  },
  {
   "cell_type": "code",
   "execution_count": null,
   "metadata": {
    "collapsed": true,
    "slideshow": {
     "slide_type": "skip"
    }
   },
   "outputs": [],
   "source": [
    "# このセルは1回だけ実行\n",
    "import os\n",
    "\n",
    "if not os.path.isdir(\"data/\"):\n",
    "    os.system(\"mkdir data/\")\n",
    "if (not os.path.exists('data/train-images-idx3-ubyte')) or \\\n",
    "   (not os.path.exists('data/train-labels-idx1-ubyte')) or \\\n",
    "   (not os.path.exists('data/t10k-images-idx3-ubyte')) or \\\n",
    "   (not os.path.exists('data/t10k-labels-idx1-ubyte')):\n",
    "    os.system(\"wget http://webdocs.cs.ualberta.ca/~bx3/data/mnist.zip -P data/\")\n",
    "    os.chdir(\"./data\")\n",
    "    os.system(\"unzip -u mnist.zip\")\n",
    "    os.chdir(\"..\")\n"
   ]
  },
  {
   "cell_type": "code",
   "execution_count": null,
   "metadata": {
    "collapsed": true,
    "slideshow": {
     "slide_type": "skip"
    }
   },
   "outputs": [],
   "source": [
    "import mxnet as mx\n",
    "import numpy as np"
   ]
  },
  {
   "cell_type": "code",
   "execution_count": 4,
   "metadata": {
    "collapsed": true,
    "slideshow": {
     "slide_type": "subslide"
    }
   },
   "outputs": [],
   "source": [
    "def mnist_iterator(batch_size, input_shape):\n",
    "    \"\"\"return train and val iterators for mnist\"\"\"\n",
    "    # download data\n",
    "    # get_data.GetMNIST_ubyte()\n",
    "    flat = False if len(input_shape) == 3 else True\n",
    "\n",
    "    train_dataiter = mx.io.MNISTIter(\n",
    "        image=\"data/train-images-idx3-ubyte\",\n",
    "        label=\"data/train-labels-idx1-ubyte\",\n",
    "        input_shape=input_shape,\n",
    "        batch_size=batch_size,\n",
    "        shuffle=True,\n",
    "        flat=flat)\n",
    "\n",
    "    val_dataiter = mx.io.MNISTIter(\n",
    "        image=\"data/t10k-images-idx3-ubyte\",\n",
    "        label=\"data/t10k-labels-idx1-ubyte\",\n",
    "        input_shape=input_shape,\n",
    "        batch_size=batch_size,\n",
    "        flat=flat)\n",
    "\n",
    "    return (train_dataiter, val_dataiter)\n"
   ]
  },
  {
   "cell_type": "code",
   "execution_count": 5,
   "metadata": {
    "collapsed": true,
    "slideshow": {
     "slide_type": "subslide"
    }
   },
   "outputs": [],
   "source": [
    "train, val = mnist_iterator(batch_size=100, input_shape = (784,))"
   ]
  },
  {
   "cell_type": "markdown",
   "metadata": {
    "slideshow": {
     "slide_type": "subslide"
    }
   },
   "source": [
    "#### 確認"
   ]
  },
  {
   "cell_type": "code",
   "execution_count": 6,
   "metadata": {
    "collapsed": true
   },
   "outputs": [],
   "source": [
    "%matplotlib inline\n",
    "import matplotlib\n",
    "import matplotlib.pyplot as plt\n",
    "import matplotlib.cm as cm"
   ]
  },
  {
   "cell_type": "code",
   "execution_count": 7,
   "metadata": {
    "collapsed": false,
    "slideshow": {
     "slide_type": "subslide"
    }
   },
   "outputs": [
    {
     "data": {
      "image/png": "[encoded data removed]",
      "text/plain": [
       "<matplotlib.figure.Figure at 0x11eb2b390>"
      ]
     },
     "metadata": {},
     "output_type": "display_data"
    }
   ],
   "source": [
    "images = train.getdata().asnumpy()\n",
    "labels = train.getlabel().asnumpy()\n",
    "f, axs = plt.subplots(1, 3, sharey=True, figsize=(12, 4))\n",
    "for i in range(3):\n",
    "    image = np.reshape(images[i], [28, 28])\n",
    "    axs[i].imshow(image, cmap=cm.Greys)\n",
    "    axs[i].set_title(\"Sample Data: %d\" % labels[i])"
   ]
  },
  {
   "cell_type": "code",
   "execution_count": 8,
   "metadata": {
    "collapsed": true,
    "slideshow": {
     "slide_type": "skip"
    }
   },
   "outputs": [],
   "source": [
    "train.reset()"
   ]
  },
  {
   "cell_type": "code",
   "execution_count": 9,
   "metadata": {
    "collapsed": true,
    "slideshow": {
     "slide_type": "subslide"
    }
   },
   "outputs": [],
   "source": [
    "# define 3lp\n",
    "\n",
    "data = mx.symbol.Variable('data')\n",
    "fc1 = mx.symbol.FullyConnected(data = data, name='fc1', num_hidden=128)\n",
    "act1 = mx.symbol.Activation(data = fc1, name='relu1', act_type=\"relu\")\n",
    "fc2 = mx.symbol.FullyConnected(data = act1, name = 'fc2', num_hidden = 64)\n",
    "act2 = mx.symbol.Activation(data = fc2, name='relu2', act_type=\"relu\")\n",
    "fc3 = mx.symbol.FullyConnected(data = act2, name='fc3', num_hidden=10)\n",
    "mlp = mx.symbol.SoftmaxOutput(data = fc3, name = 'softmax')"
   ]
  },
  {
   "cell_type": "code",
   "execution_count": 10,
   "metadata": {
    "collapsed": true,
    "slideshow": {
     "slide_type": "subslide"
    }
   },
   "outputs": [],
   "source": [
    "# train\n",
    "\n",
    "model = mx.model.FeedForward(\n",
    "    ctx = mx.cpu(), symbol = mlp, num_epoch = 20,\n",
    "    learning_rate = 0.1, momentum = 0.9, wd = 0.00001)\n",
    "\n",
    "model.fit(X=train, eval_data=val)"
   ]
  },
  {
   "cell_type": "code",
   "execution_count": 11,
   "metadata": {
    "collapsed": true,
    "slideshow": {
     "slide_type": "subslide"
    }
   },
   "outputs": [],
   "source": [
    "# predict\n",
    "\n",
    "probs = model.predict(val)"
   ]
  },
  {
   "cell_type": "code",
   "execution_count": 12,
   "metadata": {
    "collapsed": false,
    "slideshow": {
     "slide_type": "subslide"
    }
   },
   "outputs": [
    {
     "name": "stdout",
     "output_type": "stream",
     "text": [
      "Accuracy on eval set: 97.60%\n"
     ]
    }
   ],
   "source": [
    "# collect all labels from eval data\n",
    "val.reset()\n",
    "labels = np.concatenate(tuple(val.getlabel().asnumpy() for _ in val))\n",
    "\n",
    "# Now we use compute the accuracy\n",
    "correct = 0\n",
    "for i in range(len(labels)):\n",
    "    if np.argmax(probs[i,:]) == labels[i]:\n",
    "        correct += 1\n",
    "\n",
    "accuracy = 100.0 * correct / len(labels)\n",
    "print(\"Accuracy on eval set: %.2f%%\" % accuracy)"
   ]
  },
  {
   "cell_type": "code",
   "execution_count": 13,
   "metadata": {
    "collapsed": false,
    "slideshow": {
     "slide_type": "subslide"
    }
   },
   "outputs": [
    {
     "data": {
      "image/png": "[encoded data removed]",
      "text/plain": [
       "<matplotlib.figure.Figure at 0x10bdd6ad0>"
      ]
     },
     "metadata": {},
     "output_type": "display_data"
    }
   ],
   "source": [
    "# show first-3 eval data\n",
    "val.reset()\n",
    "val.next()\n",
    "images = val.getdata().asnumpy()\n",
    "\n",
    "f, axs = plt.subplots(1, 3, sharey=True, figsize=(12, 4))\n",
    "\n",
    "for i in range(3):\n",
    "    image = np.reshape(images[i], [28, 28])\n",
    "    axs[i].imshow(image, cmap=cm.Greys)\n",
    "    axs[i].set_title(\"Classified as: %d\" % np.argmax(probs[i, :]))\n",
    "\n",
    "val.reset()"
   ]
  },
  {
   "cell_type": "markdown",
   "metadata": {
    "slideshow": {
     "slide_type": "slide"
    }
   },
   "source": [
    "## 参考"
   ]
  },
  {
   "cell_type": "markdown",
   "metadata": {},
   "source": [
    "+ [MXNet](http://mxnet.rtfd.org/ \"MXNet Documentation &mdash; mxnet 0.5.0 documentation\")\n",
    "+ [MXNet.jl](https://github.com/dmlc/MXNet.jl \"dmlc/MXNet.jl: MXNet Julia Package - flexible and efficient deep learning in Julia\")\n",
    "+ [Installing the IPython kernel](http://ipython.readthedocs.org/en/stable/install/kernel_install.html \"Installing the IPython kernel &mdash; IPython 4.1.1 documentation\")"
   ]
  },
  {
   "cell_type": "markdown",
   "metadata": {
    "slideshow": {
     "slide_type": "slide"
    }
   },
   "source": [
    "## おしまい"
   ]
  },
  {
   "cell_type": "markdown",
   "metadata": {},
   "source": [
    "ご清聴ありがとうございました。"
   ]
  },
  {
   "cell_type": "code",
   "execution_count": 1,
   "metadata": {
    "collapsed": false,
    "slideshow": {
     "slide_type": "notes"
    }
   },
   "outputs": [
    {
     "data": {
      "text/html": [
       "<style>\n",
       ".reveal>.state-background{background-color:#fcfcff}\n",
       ".reveal .rendered_html pre,.reveal .rendered_html code{background-color:#eee}\n",
       "</style>"
      ],
      "text/plain": [
       "<IPython.core.display.HTML object>"
      ]
     },
     "execution_count": 1,
     "metadata": {},
     "output_type": "execute_result"
    }
   ],
   "source": [
    "from IPython.core.display import HTML\n",
    "HTML(r\"\"\"<style>\n",
    ".reveal>.state-background{background-color:#fcfcff}\n",
    ".reveal .rendered_html pre,.reveal .rendered_html code{background-color:#eee}\n",
    "</style>\"\"\")"
   ]
  },
  {
   "cell_type": "code",
   "execution_count": null,
   "metadata": {
    "collapsed": true,
    "slideshow": {
     "slide_type": "skip"
    }
   },
   "outputs": [],
   "source": []
  }
 ],
 "metadata": {
  "celltoolbar": "Slideshow",
  "kernelspec": {
   "display_name": "MXNet (Python 2)",
   "language": "python",
   "name": "mxnet"
  },
  "language_info": {
   "codemirror_mode": {
    "name": "ipython",
    "version": 2
   },
   "file_extension": ".py",
   "mimetype": "text/x-python",
   "name": "python",
   "nbconvert_exporter": "python",
   "pygments_lexer": "ipython2",
   "version": "2.7.11"
  }
 },
 "nbformat": 4,
 "nbformat_minor": 0
}
